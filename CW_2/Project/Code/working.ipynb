{
 "cells": [
  {
   "cell_type": "code",
   "execution_count": null,
   "metadata": {},
   "outputs": [],
   "source": [
    "import pandas as pd\n",
    "import numpy as np\n",
    "import matplotlib.pyplot as plt\n",
    "pd.set_option('display.max_rows', 500)\n",
    "pd.set_option('display.max_columns', 500)\n",
    "pd.set_option('display.width', 1000)"
   ]
  },
  {
   "cell_type": "code",
   "execution_count": null,
   "metadata": {},
   "outputs": [],
   "source": [
    "df = pd.read_json('../data/sample_small.json', lines=True)"
   ]
  },
  {
   "cell_type": "code",
   "execution_count": null,
   "metadata": {},
   "outputs": [],
   "source": [
    "df.head()"
   ]
  },
  {
   "cell_type": "code",
   "execution_count": null,
   "metadata": {},
   "outputs": [],
   "source": [
    "df_count = df[['visitor_uuid','visitor_country','env_doc_id']]\n",
    "df_count.head()"
   ]
  },
  {
   "cell_type": "code",
   "execution_count": null,
   "metadata": {},
   "outputs": [],
   "source": [
    "df_count = df_count.loc[df_count['env_doc_id'] == \"140222143932-91796b01f94327ee809bd759fd0f6c76\"]"
   ]
  },
  {
   "cell_type": "code",
   "execution_count": null,
   "metadata": {},
   "outputs": [],
   "source": [
    "df_count['visitor_uuid'] = df_count['visitor_uuid'].drop_duplicates()"
   ]
  },
  {
   "cell_type": "code",
   "execution_count": null,
   "metadata": {},
   "outputs": [],
   "source": [
    "df_count = df_count[['visitor_uuid','visitor_country']]"
   ]
  },
  {
   "cell_type": "code",
   "execution_count": null,
   "metadata": {},
   "outputs": [],
   "source": [
    "df_count_gp = df_count.groupby(by='visitor_country').count().sort_values(by='visitor_uuid', ascending=False).reset_index()"
   ]
  },
  {
   "cell_type": "code",
   "execution_count": null,
   "metadata": {},
   "outputs": [],
   "source": [
    "df_count_gp.head(10)"
   ]
  },
  {
   "cell_type": "code",
   "execution_count": null,
   "metadata": {},
   "outputs": [],
   "source": [
    "df_count_gp.plot(kind='bar', x='visitor_country')"
   ]
  },
  {
   "cell_type": "code",
   "execution_count": null,
   "metadata": {},
   "outputs": [],
   "source": [
    "fig, ax = plt.subplots()\n",
    "ax.bar(x=df_count_gp['visitor_country'], y=df_count_gp['visitor_uuid'], height=1)\n",
    "plt.show()"
   ]
  },
  {
   "cell_type": "code",
   "execution_count": null,
   "metadata": {},
   "outputs": [],
   "source": [
    "def doc_by_country(uuid=\"140222143932-91796b01f94327ee809bd759fd0f6c76\"):\n",
    "    df = pd.read_json('../data/sample_small.json', lines=True)\n",
    "    df_count = df[['visitor_uuid','visitor_country','env_doc_id']]\n",
    "    df_count = df_count.loc[df_count['env_doc_id'] == uuid]\n",
    "    df_count['visitor_uuid'] = df_count['visitor_uuid'].drop_duplicates()\n",
    "    df_count = df_count[['visitor_uuid','visitor_country']]\n",
    "    df_count_gp = df_count.groupby(by='visitor_country').count().sort_values(by='visitor_uuid', ascending=False).reset_index()\n",
    "    chart = df_count_gp.plot(kind='bar', x='visitor_country')\n",
    "    return chart"
   ]
  },
  {
   "cell_type": "code",
   "execution_count": null,
   "metadata": {},
   "outputs": [],
   "source": [
    "doc_by_country()"
   ]
  },
  {
   "cell_type": "code",
   "execution_count": null,
   "metadata": {},
   "outputs": [],
   "source": [
    "v = df_count['env_doc_id'].value_counts().reset_index()"
   ]
  },
  {
   "cell_type": "code",
   "execution_count": null,
   "metadata": {},
   "outputs": [],
   "source": [
    "s = v.iloc[0, 0]"
   ]
  },
  {
   "cell_type": "code",
   "execution_count": null,
   "metadata": {},
   "outputs": [],
   "source": [
    "len(s)"
   ]
  },
  {
   "cell_type": "code",
   "execution_count": null,
   "metadata": {},
   "outputs": [],
   "source": [
    "df['visitor_country'].value_counts().reset_index()\n",
    "df['Continent'] = 'none'"
   ]
  },
  {
   "cell_type": "code",
   "execution_count": null,
   "metadata": {},
   "outputs": [],
   "source": [
    "df.loc[df['visitor_country'] == 'BR', 'Continent'] = 'South America'\n",
    "df.loc[df['visitor_country'] == 'US', 'Continent'] = 'Noth America'\n",
    "df.loc[df['visitor_country'] == 'MX', 'Continent'] = 'Noth America'\n",
    "df.loc[df['visitor_country'] == 'CA', 'Continent'] = 'Noth America'\n",
    "df.loc[df['visitor_country'] == 'GB', 'Continent'] = 'Europe'\n",
    "df.loc[df['visitor_country'] == 'ES', 'Continent'] = 'Europe'\n",
    "df.loc[df['visitor_country'] == 'PE', 'Continent'] = 'South America'\n",
    "df.loc[df['visitor_country'] == 'IT', 'Continent'] = 'Europe'\n",
    "df.loc[df['visitor_country'] == 'CO', 'Continent'] = 'South America'\n",
    "df.loc[df['visitor_country'] == 'CL', 'Continent'] = 'South America'\n",
    "df.loc[df['visitor_country'] == 'AU', 'Continent'] = 'Australia & Oceania'\n",
    "df.loc[df['visitor_country'] == 'AR', 'Continent'] = 'South America'\n",
    "df.loc[df['visitor_country'] == 'RU', 'Continent'] = 'Europe'\n",
    "df.loc[df['visitor_country'] == 'FR', 'Continent'] = 'Europe'\n",
    "df.loc[df['visitor_country'] == 'PT', 'Continent'] = 'Europe'\n",
    "df.loc[df['visitor_country'] == 'PL', 'Continent'] = 'Europe'\n",
    "df.loc[df['visitor_country'] == 'NL', 'Continent'] = 'Europe'\n",
    "df.loc[df['visitor_country'] == 'SV', 'Continent'] = 'Noth America'\n",
    "df.loc[df['visitor_country'] == 'DE', 'Continent'] = 'Europe'\n",
    "df.loc[df['visitor_country'] == 'EC', 'Continent'] = 'South America'\n",
    "df.loc[df['visitor_country'] == 'KR', 'Continent'] = 'Asia'\n",
    "df.loc[df['visitor_country'] == 'GT', 'Continent'] = 'Noth America'\n",
    "df.loc[df['visitor_country'] == 'JP', 'Continent'] = 'Asia'\n",
    "df.loc[df['visitor_country'] == 'UA', 'Continent'] = 'Europe'\n",
    "df.loc[df['visitor_country'] == 'CR', 'Continent'] = 'South America'\n",
    "df.loc[df['visitor_country'] == 'IS', 'Continent'] = 'Europe'\n",
    "df.loc[df['visitor_country'] == 'RS', 'Continent'] = 'Europe'\n"
   ]
  },
  {
   "cell_type": "code",
   "execution_count": null,
   "metadata": {},
   "outputs": [],
   "source": [
    "df['visitor_country'].value_counts().reset_index()"
   ]
  },
  {
   "cell_type": "code",
   "execution_count": null,
   "metadata": {},
   "outputs": [],
   "source": [
    "df['visitor_useragent'].head()"
   ]
  },
  {
   "cell_type": "markdown",
   "metadata": {},
   "source": [
    "### Browser function test"
   ]
  },
  {
   "cell_type": "code",
   "execution_count": null,
   "metadata": {},
   "outputs": [],
   "source": [
    "df_brw = df[['visitor_useragent']]"
   ]
  },
  {
   "cell_type": "code",
   "execution_count": null,
   "metadata": {},
   "outputs": [],
   "source": [
    "df_brw = df_brw['visitor_useragent'].str.split(n=10, expand=True)"
   ]
  },
  {
   "cell_type": "code",
   "execution_count": null,
   "metadata": {},
   "outputs": [],
   "source": [
    "df_brw[0] = df_brw[0].str.findall(r'[A-Z][a-z]+')"
   ]
  },
  {
   "cell_type": "code",
   "execution_count": null,
   "metadata": {},
   "outputs": [],
   "source": [
    "df_brw[0] = df_brw[0].apply(lambda x: ','.join(map(str, x)))"
   ]
  },
  {
   "cell_type": "code",
   "execution_count": null,
   "metadata": {},
   "outputs": [],
   "source": [
    "df_brw"
   ]
  },
  {
   "cell_type": "code",
   "execution_count": null,
   "metadata": {},
   "outputs": [],
   "source": [
    "df_brw[1] = df_brw[1].str.replace('(', '')"
   ]
  },
  {
   "cell_type": "code",
   "execution_count": null,
   "metadata": {},
   "outputs": [],
   "source": [
    "df_brw[1] = df_brw[1].str.replace(';', '')"
   ]
  },
  {
   "cell_type": "code",
   "execution_count": null,
   "metadata": {},
   "outputs": [],
   "source": [
    "df_brw"
   ]
  },
  {
   "cell_type": "code",
   "execution_count": null,
   "metadata": {},
   "outputs": [],
   "source": [
    "df_brw_1 = df_brw[0].value_counts().reset_index()"
   ]
  },
  {
   "cell_type": "code",
   "execution_count": null,
   "metadata": {},
   "outputs": [],
   "source": [
    "df_brw_1"
   ]
  },
  {
   "cell_type": "code",
   "execution_count": null,
   "metadata": {},
   "outputs": [],
   "source": [
    "df_brw_1 = df_brw_1.rename(columns={'index':'Browser'})\n",
    "df_brw_1 = df_brw_1.rename(columns={0:'Count'})"
   ]
  },
  {
   "cell_type": "code",
   "execution_count": null,
   "metadata": {},
   "outputs": [],
   "source": [
    "df_brw_1"
   ]
  },
  {
   "cell_type": "code",
   "execution_count": null,
   "metadata": {},
   "outputs": [],
   "source": [
    "df_brw[1].value_counts()"
   ]
  },
  {
   "cell_type": "markdown",
   "metadata": {},
   "source": [
    "## Time spent by user (reader)"
   ]
  },
  {
   "cell_type": "code",
   "execution_count": null,
   "metadata": {},
   "outputs": [],
   "source": [
    "df = pd.read_json('../data/sample_small.json', lines=True)"
   ]
  },
  {
   "cell_type": "code",
   "execution_count": null,
   "metadata": {},
   "outputs": [],
   "source": [
    "df.head()"
   ]
  },
  {
   "cell_type": "code",
   "execution_count": null,
   "metadata": {},
   "outputs": [],
   "source": [
    "df_time = df[['visitor_uuid','event_readtime']]"
   ]
  },
  {
   "cell_type": "code",
   "execution_count": null,
   "metadata": {},
   "outputs": [],
   "source": [
    "df_time.head()"
   ]
  },
  {
   "cell_type": "code",
   "execution_count": null,
   "metadata": {},
   "outputs": [],
   "source": [
    "df_time['event_readtime'] = df_time['event_readtime'].fillna(0)"
   ]
  },
  {
   "cell_type": "code",
   "execution_count": null,
   "metadata": {},
   "outputs": [],
   "source": [
    "df_time.head()"
   ]
  },
  {
   "cell_type": "code",
   "execution_count": null,
   "metadata": {},
   "outputs": [],
   "source": [
    "df_time_tot = df_time.groupby(by='visitor_uuid').sum().reset_index().sort_values(by='event_readtime', ascending=False)"
   ]
  },
  {
   "cell_type": "code",
   "execution_count": null,
   "metadata": {},
   "outputs": [],
   "source": [
    "df_time_tot.head(10)"
   ]
  },
  {
   "cell_type": "code",
   "execution_count": null,
   "metadata": {},
   "outputs": [],
   "source": [
    "df_time_tot['event_readtime'] = df_time_tot['event_readtime'] / 60000"
   ]
  },
  {
   "cell_type": "code",
   "execution_count": null,
   "metadata": {},
   "outputs": [],
   "source": [
    "df_time_tot.head(10)"
   ]
  },
  {
   "cell_type": "code",
   "execution_count": null,
   "metadata": {},
   "outputs": [],
   "source": [
    "df_time_tot = df_time_tot.rename(columns={'visitor_uuid':'User UUID','event_readtime':'Time spent in Mins'})"
   ]
  },
  {
   "cell_type": "code",
   "execution_count": null,
   "metadata": {},
   "outputs": [],
   "source": [
    "df[df['subject_doc_id'] == \"140222143932-91796b01f94327ee809bd759fd0f6c76\"]"
   ]
  },
  {
   "cell_type": "code",
   "execution_count": null,
   "metadata": {},
   "outputs": [],
   "source": [
    "df['subject_doc_id'].value_counts().reset_index().tail(20)"
   ]
  },
  {
   "cell_type": "code",
   "execution_count": null,
   "metadata": {},
   "outputs": [],
   "source": [
    "def also_like(doc_uuid):\n",
    "    user_here = []\n",
    "    doc_like = []\n",
    "    doc_like_count = []\n",
    "    df_like = df[['visitor_uuid','subject_doc_id']]\n",
    "    # doc_uuid = \"130822235319-831e8a551d644af105e96c00cdc7b169\"\n",
    "    df_like_doc = df_like.loc[df_like['subject_doc_id'] == doc_uuid]\n",
    "    like = df_like_doc.groupby(by=['visitor_uuid']).count().sort_values(\n",
    "        by='subject_doc_id', ascending=False).reset_index()\n",
    "    for i in range(like.shape[0]):\n",
    "        df_like_other = df_like.loc[df_like['visitor_uuid'] == like.iloc[i,0]]\n",
    "        if df_like_other.shape[0] > 0:\n",
    "            user_here.append(like.iloc[i,0])\n",
    "        for x in range(len(user_here)):\n",
    "            df_like_other_2 = df_like.loc[df_like['visitor_uuid'] == user_here[x]]\n",
    "            df_like_other_3 = df_like_other_2['subject_doc_id'].value_counts().reset_index()\n",
    "            if df_like_other_3.shape[0] > 0:\n",
    "                for n in range(df_like_other_3.shape[0]):\n",
    "                    doc_like.append(df_like_other_3.iloc[n,0])\n",
    "                    doc_like_count.append(df_like_other_3.iloc[n,1])\n",
    "    like_final = pd.DataFrame(list(zip(doc_like, doc_like_count)), columns=['Doc Liked', 'Count'])\n",
    "    like_final = like_final.loc[like_final['Doc Liked'] != doc_uuid]\n",
    "    return like_final.head(10).sort_values(by='Count', ascending=False)\n"
   ]
  },
  {
   "cell_type": "code",
   "execution_count": null,
   "metadata": {},
   "outputs": [],
   "source": [
    "from also_like import also_like"
   ]
  },
  {
   "cell_type": "code",
   "execution_count": null,
   "metadata": {},
   "outputs": [],
   "source": [
    "ds_list = [\"../data/sample_small.json\",\"../data/sample_100k_lines\",\"../data/sample_400k_lines\",\n",
    "    \"../data/sample_600k_lines\",\"../data/sample_3m_lines\"]"
   ]
  },
  {
   "cell_type": "code",
   "execution_count": null,
   "metadata": {},
   "outputs": [],
   "source": [
    "type(ds_list[0])"
   ]
  },
  {
   "cell_type": "code",
   "execution_count": null,
   "metadata": {},
   "outputs": [],
   "source": [
    "also_like(\"130822235319-831e8a551d644af105e96c00cdc7b169\", 2)"
   ]
  },
  {
   "cell_type": "code",
   "execution_count": null,
   "metadata": {},
   "outputs": [],
   "source": [
    "df_100 = pd.read_json(\"../data/sample_100k_lines.json\", lines=True)\n",
    "df_100.head()"
   ]
  },
  {
   "cell_type": "code",
   "execution_count": null,
   "metadata": {},
   "outputs": [],
   "source": [
    "import matplotlib.pyplot as plt\n",
    "from matplotlib.backends.backend_agg import FigureCanvasAgg as FC\n",
    "import seaborn as sns\n",
    "import numpy as np\n",
    "import pandas as pd"
   ]
  },
  {
   "cell_type": "code",
   "execution_count": null,
   "metadata": {},
   "outputs": [],
   "source": [
    "ds_list = [\"../data/sample_small.json\",\"../data/sample_100k_lines.json\",\"../data/sample_400k_lines.json\",\n",
    "    \"../data/sample_600k_lines.json\",\"../data/sample_3m_lines.json\"]\n",
    "file = str(ds_list[2])\n",
    "df = pd.read_json(file, lines=True)\n",
    "#setting up the chart options\n",
    "fig, ax = plt.subplots(figsize=(8,8))\n",
    "ax = sns.set_style(style = \"darkgrid\")\n",
    "# Prepare the dataset\n",
    "df_brw = df[['visitor_useragent']]\n",
    "df_brw = df_brw['visitor_useragent'].str.split(n=10, expand=True)\n",
    "df_brw[0] = df_brw[0].str.findall(r'[A-Z][a-z]+')\n",
    "df_brw[0] = df_brw[0].apply(lambda x: ','.join(map(str, x)))\n",
    "df_brw_1 = df_brw[0].value_counts().reset_index()\n",
    "# Rename the columns\n",
    "df_brw_1 = df_brw_1.rename(columns={'index':'Browser'})\n",
    "df_brw_1 = df_brw_1.rename(columns={0:'Count'})\n",
    "x, y = \"Browser\", \"Count\"\n",
    "\n",
    "#build the chart\n",
    "sns.barplot(data=df_brw_1, x = x, y = y, hue = x).set(\n",
    "    title=\"Number of visits by browser\")\n",
    "print(\"done...\")\n",
    "plt.show()"
   ]
  },
  {
   "cell_type": "code",
   "execution_count": null,
   "metadata": {},
   "outputs": [],
   "source": [
    "df_brw[1].value_counts()"
   ]
  },
  {
   "cell_type": "code",
   "execution_count": null,
   "metadata": {},
   "outputs": [],
   "source": [
    "ds_list = [\"../data/sample_small.json\",\"../data/sample_100k_lines.json\",\"../data/sample_400k_lines.json\",\n",
    "\"../data/sample_600k_lines.json\",\"../data/sample_3m_lines.json\"]\n",
    "file = str(ds_list[3])\n",
    "df = pd.read_json(file, lines=True)\n",
    "#setting up the chart options\n",
    "fig, ax = plt.subplots(figsize=(12,12))\n",
    "ax = sns.set_style(style = \"darkgrid\")\n",
    "df_os = df[['visitor_useragent']]\n",
    "df_os = df_os['visitor_useragent'].str.split(n=10, expand=True)\n",
    "df_os[1] = df_os[1].str.replace('(', '')\n",
    "df_os[1] = df_os[1].str.replace(';', '')\n",
    "# df_os[1] = df_os[1].str.replace(')', '')\n",
    "df_os[0] = df_os[0].str.findall(r'[A-Z][a-z]+')\n",
    "df_os[0] = df_os[0].apply(lambda x: ','.join(map(str, x)))\n",
    "df_os = df_os.loc[df_os[0] == \"Mozilla\"]\n",
    "df_os_1 = df_os[1].value_counts().reset_index()\n",
    "df_os_1 = df_os_1.iloc[:5, :] # Showing only top five OS\n",
    "df_os_1 = df_os_1.rename(columns={'index':'OS'})\n",
    "df_os_1 = df_os_1.rename(columns={1:'Count'})\n",
    "x, y = \"OS\", \"Count\"\n",
    "\n",
    "#build the chart\n",
    "sns.barplot(data=df_os_1, x = x, y = y, hue = x).set(\n",
    "    title=\"Mozilla visotors by OS\")\n",
    "print(\"done...\")\n",
    "plt.show()"
   ]
  },
  {
   "cell_type": "code",
   "execution_count": null,
   "metadata": {},
   "outputs": [],
   "source": [
    "doc_uuid = \"100713205147-2ee05a98f1794324952eea5ca678c026\"\n",
    "ds = 0\n",
    "\n",
    "user_here = []\n",
    "doc_like = []\n",
    "doc_like_count = []\n",
    "ds_list = [\"../data/sample_small.json\",\"../data/sample_100k_lines.json\",\"../data/sample_400k_lines.json\",\n",
    "\"../data/sample_600k_lines.json\",\"../data/sample_3m_lines.json\"]\n",
    "file = str(ds_list[ds])\n",
    "df = pd.read_json(file, lines=True)\n",
    "df_like = df[['visitor_uuid','subject_doc_id']]\n",
    "df_like_doc = df_like.loc[df_like['subject_doc_id'] == doc_uuid]\n",
    "like = df_like_doc.groupby(by=['visitor_uuid']).count().sort_values(\n",
    "    by='subject_doc_id', ascending=False).reset_index()\n",
    "for i in range(like.shape[0]):\n",
    "    df_like_other = df_like.loc[df_like['visitor_uuid'] == like.iloc[i,0]]\n",
    "    if df_like_other.shape[0] > 0:\n",
    "        user_here.append(like.iloc[i,0])\n",
    "    for x in range(len(user_here)):\n",
    "        df_like_other_2 = df_like.loc[df_like['visitor_uuid'] == user_here[x]]\n",
    "        df_like_other_3 = df_like_other_2['subject_doc_id'].value_counts().reset_index()\n",
    "        if df_like_other_3.shape[0] > 0:\n",
    "            for n in range(df_like_other_3.shape[0]):\n",
    "                doc_like.append(df_like_other_3.iloc[n,0])\n",
    "                doc_like_count.append(df_like_other_3.iloc[n,1])\n",
    "like_final = pd.DataFrame(list(zip(doc_like, doc_like_count)), columns=['Doc Liked', 'Count'])\n",
    "like_final = like_final.loc[like_final['Doc Liked'] != doc_uuid]\n",
    "like_final = like_final.sort_values(by='Count', ascending=False)\n",
    "like_final = like_final.iloc[:10, :]\n",
    "like_final = like_final.drop_duplicates(subset='Doc Liked')"
   ]
  },
  {
   "cell_type": "code",
   "execution_count": null,
   "metadata": {},
   "outputs": [],
   "source": [
    "len(doc_like)"
   ]
  },
  {
   "cell_type": "code",
   "execution_count": null,
   "metadata": {},
   "outputs": [],
   "source": [
    "import graphviz as ghv"
   ]
  },
  {
   "cell_type": "code",
   "execution_count": null,
   "metadata": {},
   "outputs": [],
   "source": [
    "dot = ghv.Digraph(\"alos-like\", format='png')\n",
    "az = ['A','B','C','D','E','F','G','H','I','K','L','M']\n",
    "aw = ['H','V','N','Z','X','W','Q','S','R','T','O','P']\n",
    "for i , a in zip(range(len(user_here)), az):\n",
    "    dot.node(a , user_here[i][-4:])\n",
    "for x, y in zip(range(len(doc_like)), aw):\n",
    "        dot.node(y, doc_like[x][-4:])\n",
    "for x, i in zip(az, aw):\n",
    "    dot.edges([x+i])"
   ]
  },
  {
   "cell_type": "code",
   "execution_count": null,
   "metadata": {},
   "outputs": [],
   "source": [
    "dot"
   ]
  },
  {
   "cell_type": "code",
   "execution_count": null,
   "metadata": {},
   "outputs": [],
   "source": [
    "dot.render(directory='doctest-output').replace('\\\\', '/')"
   ]
  },
  {
   "cell_type": "code",
   "execution_count": null,
   "metadata": {},
   "outputs": [],
   "source": [
    "like.head()"
   ]
  },
  {
   "cell_type": "code",
   "execution_count": null,
   "metadata": {},
   "outputs": [],
   "source": [
    "bot = ghv.Digraph(\"alos-like\", format='png')"
   ]
  },
  {
   "cell_type": "code",
   "execution_count": null,
   "metadata": {},
   "outputs": [],
   "source": [
    "for w in range(like.shape[0]):\n",
    "    test = df.loc[df['visitor_uuid'] == like.iloc[w,0]]\n",
    "    test = test[['visitor_uuid','subject_doc_id']]\n",
    "    test = test.iloc[:10, :]\n",
    "    bot.node(str(test.iloc[0,0][-4:]))\n",
    "    for i in range(test.shape[0]):\n",
    "        bot.node(str(test.iloc[i,1][-4:]))\n",
    "    for x in range(test.shape[0]):\n",
    "        bot.edge(str(test.iloc[0,0][-4:]), str(test.iloc[x,1][-4:]))"
   ]
  },
  {
   "cell_type": "code",
   "execution_count": null,
   "metadata": {},
   "outputs": [],
   "source": [
    "test.head(10)"
   ]
  },
  {
   "cell_type": "code",
   "execution_count": null,
   "metadata": {},
   "outputs": [],
   "source": [
    "bot"
   ]
  },
  {
   "cell_type": "code",
   "execution_count": 1,
   "metadata": {},
   "outputs": [],
   "source": [
    "from also_like import also_like_graph\n",
    "ds_list = [\"../data/sample_small.json\",\"../data/sample_100k_lines.json\",\"../data/sample_400k_lines.json\",\n",
    "\"../data/sample_600k_lines.json\",\"../data/sample_3m_lines.json\"]\n",
    "also_like_graph(\"100713205147-2ee05a98f1794324952eea5ca678c026\", 1)"
   ]
  },
  {
   "cell_type": "code",
   "execution_count": null,
   "metadata": {},
   "outputs": [],
   "source": []
  }
 ],
 "metadata": {
  "kernelspec": {
   "display_name": "Python 3.10.8 ('.venv': venv)",
   "language": "python",
   "name": "python3"
  },
  "language_info": {
   "codemirror_mode": {
    "name": "ipython",
    "version": 3
   },
   "file_extension": ".py",
   "mimetype": "text/x-python",
   "name": "python",
   "nbconvert_exporter": "python",
   "pygments_lexer": "ipython3",
   "version": "3.10.8"
  },
  "orig_nbformat": 4,
  "vscode": {
   "interpreter": {
    "hash": "8a72adc7ff743d70cdea274fac2a5d5f39dce0806ed32c0ec4bebc1766b4bc78"
   }
  }
 },
 "nbformat": 4,
 "nbformat_minor": 2
}
